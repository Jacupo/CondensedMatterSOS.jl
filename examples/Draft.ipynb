{
 "cells": [
  {
   "cell_type": "code",
   "execution_count": 1,
   "metadata": {},
   "outputs": [
    {
     "data": {
      "text/plain": [
       "spin (generic function with 1 method)"
      ]
     },
     "execution_count": 1,
     "metadata": {},
     "output_type": "execute_result"
    }
   ],
   "source": [
    "using MultivariatePolynomials\n",
    "const MP = MultivariatePolynomials\n",
    "# The names ares stored outside so that `isbits(::SpinVariable)` is `true`.\n",
    "const NAMES = String[]\n",
    "struct SpinVariable <: MP.AbstractVariable\n",
    "    id::Int # Spin id, spins with different id commute\n",
    "    index::Int # 0 means x, 1 means y and 2 means z\n",
    "end\n",
    "function spin(name::String)\n",
    "    push!(NAMES, name)\n",
    "    id = length(NAMES)\n",
    "    return SpinVariable(id, 0), SpinVariable(id, 1), SpinVariable(id, 2)\n",
    "end"
   ]
  },
  {
   "cell_type": "code",
   "execution_count": 2,
   "metadata": {
    "collapsed": true
   },
   "outputs": [],
   "source": [
    "function MP.name_base_indices(var::SpinVariable) # Used to print variable\n",
    "    splits = split(NAMES[var.id], r\"[\\[,\\]]\\s*\", keepempty=false)\n",
    "    suffix = (\"ˣ\", \"ʸ\", \"ᶻ\")[var.index + 1]\n",
    "    name = splits[1] * suffix\n",
    "    if length(splits) == 1\n",
    "        return name, Int[]\n",
    "    else\n",
    "        return name, parse.(Int, splits[2:end])\n",
    "    end\n",
    "end"
   ]
  },
  {
   "cell_type": "code",
   "execution_count": 3,
   "metadata": {
    "collapsed": true
   },
   "outputs": [],
   "source": [
    "function Base.:*(a::SpinVariable, b::SpinVariable)\n",
    "    if a.id == b.id\n",
    "        if a.index == b.index\n",
    "            return true # We want to return `1` but in which type ?\n",
    "                        # We use `Bool` type as it the type compatible with the most other types in Julia.\n",
    "        else\n",
    "            i = a.index\n",
    "            j = b.index\n",
    "            if j == (i + 1) % 3\n",
    "                # σx * σy = im * σz\n",
    "                return (true * im) * SpinVariable(a.id, (j + 1) % 3)\n",
    "            else\n",
    "                # σy * σx = 0\n",
    "                return false # Same comment than for `return true` above.\n",
    "            end\n",
    "        end\n",
    "    else\n",
    "        error(\"TODO\")\n",
    "    end\n",
    "end"
   ]
  },
  {
   "cell_type": "code",
   "execution_count": 4,
   "metadata": {},
   "outputs": [
    {
     "data": {
      "text/plain": [
       "@spin (macro with 1 method)"
      ]
     },
     "execution_count": 4,
     "metadata": {},
     "output_type": "execute_result"
    }
   ],
   "source": [
    "function spin_index(prefix::String, indices)\n",
    "    return spin(prefix * \"[\" * join(indices, \",\") * \"]\")\n",
    "end\n",
    "function array_spin(prefix, indices...)\n",
    "    σs = map(i -> spin_index(prefix, i), Iterators.product(indices...))\n",
    "    return [σ[1] for σ in σs], [σ[2] for σ in σs], [σ[3] for σ in σs]\n",
    "end\n",
    "\n",
    "function build_spin(var)\n",
    "    if isa(var, Symbol)\n",
    "        σx = Symbol(string(var) * \"x\")\n",
    "        σy = Symbol(string(var) * \"y\")\n",
    "        σz = Symbol(string(var) * \"z\")\n",
    "        return [σx, σy, σz], :(($(esc(σx)), $(esc(σy)), $(esc(σz))) = spin($\"$var\"))\n",
    "    else\n",
    "        isa(var, Expr) || error(\"Expected $var to be a variable name\")\n",
    "        Base.Meta.isexpr(var, :ref) || error(\"Expected $var to be of the form varname[idxset]\")\n",
    "        (2 ≤ length(var.args)) || error(\"Expected $var to have at least one index set\")\n",
    "        varname = var.args[1]\n",
    "        prefix = string(varname)\n",
    "        σx = Symbol(prefix * \"x\")\n",
    "        σy = Symbol(prefix * \"y\")\n",
    "        σz = Symbol(prefix * \"z\")\n",
    "        return [σx, σy, σz], :(($(esc(σx)), $(esc(σy)), $(esc(σz))) = array_spin($prefix, $(esc.(var.args[2:end])...)))\n",
    "    end\n",
    "end\n",
    "\n",
    "function build_spins(args)\n",
    "    vars = Symbol[]\n",
    "    exprs = []\n",
    "    for arg in args\n",
    "        var, expr = build_spin(arg)\n",
    "        append!(vars, var)\n",
    "        push!(exprs, expr)\n",
    "    end\n",
    "    return vars, exprs\n",
    "end\n",
    "\n",
    "# Variable vector x returned garanteed to be sorted so that if p is built with x then vars(p) == x\n",
    "macro spin(args...)\n",
    "    vars, exprs = build_spins(args)\n",
    "    :($(foldl((x,y) -> :($x; $y), exprs, init=:())); $(Expr(:tuple, esc.(vars)...)))\n",
    "end"
   ]
  },
  {
   "cell_type": "code",
   "execution_count": 5,
   "metadata": {},
   "outputs": [
    {
     "data": {
      "text/plain": [
       "(σˣ, σʸ, σᶻ)"
      ]
     },
     "execution_count": 5,
     "metadata": {},
     "output_type": "execute_result"
    }
   ],
   "source": [
    "spin(\"σ\")"
   ]
  },
  {
   "cell_type": "code",
   "execution_count": 6,
   "metadata": {},
   "outputs": [
    {
     "data": {
      "text/plain": [
       "(σˣ₁, σʸ₁, σᶻ₁)"
      ]
     },
     "execution_count": 6,
     "metadata": {},
     "output_type": "execute_result"
    }
   ],
   "source": [
    "spin_index(\"σ\", 1)"
   ]
  },
  {
   "cell_type": "code",
   "execution_count": 7,
   "metadata": {},
   "outputs": [
    {
     "data": {
      "text/plain": [
       "quote\n",
       "    begin\n",
       "        ()\n",
       "        #= In[4]:42 =#\n",
       "        (σx, σy, σz) = Main.spin(\"σ\")\n",
       "    end\n",
       "    #= In[4]:42 =#\n",
       "    (σx, σy, σz)\n",
       "end"
      ]
     },
     "execution_count": 7,
     "metadata": {},
     "output_type": "execute_result"
    }
   ],
   "source": [
    "@macroexpand @spin σ"
   ]
  },
  {
   "cell_type": "code",
   "execution_count": 8,
   "metadata": {},
   "outputs": [
    {
     "data": {
      "text/plain": [
       "(σˣ, σʸ, σᶻ)"
      ]
     },
     "execution_count": 8,
     "metadata": {},
     "output_type": "execute_result"
    }
   ],
   "source": [
    "@spin σ"
   ]
  },
  {
   "cell_type": "code",
   "execution_count": 9,
   "metadata": {},
   "outputs": [
    {
     "data": {
      "text/plain": [
       "true"
      ]
     },
     "execution_count": 9,
     "metadata": {},
     "output_type": "execute_result"
    }
   ],
   "source": [
    "σx * σx"
   ]
  },
  {
   "cell_type": "code",
   "execution_count": 10,
   "metadata": {},
   "outputs": [
    {
     "data": {
      "text/plain": [
       "true"
      ]
     },
     "execution_count": 10,
     "metadata": {},
     "output_type": "execute_result"
    }
   ],
   "source": [
    "σy * σy"
   ]
  },
  {
   "cell_type": "code",
   "execution_count": 11,
   "metadata": {},
   "outputs": [
    {
     "data": {
      "text/plain": [
       "false"
      ]
     },
     "execution_count": 11,
     "metadata": {},
     "output_type": "execute_result"
    }
   ],
   "source": [
    "σy * σx"
   ]
  },
  {
   "cell_type": "code",
   "execution_count": 12,
   "metadata": {},
   "outputs": [
    {
     "ename": "MethodError",
     "evalue": "MethodError: no method matching monomial(::SpinVariable)\nClosest candidates are:\n  monomial(!Matched::AbstractMonomial) at /home/blegat/.julia/packages/MultivariatePolynomials/goWHi/src/term.jl:129",
     "output_type": "error",
     "traceback": [
      "MethodError: no method matching monomial(::SpinVariable)\nClosest candidates are:\n  monomial(!Matched::AbstractMonomial) at /home/blegat/.julia/packages/MultivariatePolynomials/goWHi/src/term.jl:129",
      "",
      "Stacktrace:",
      " [1] multconstant(::Complex{Bool}, ::SpinVariable) at /home/blegat/.julia/packages/MultivariatePolynomials/goWHi/src/operators.jl:226",
      " [2] *(::Complex{Bool}, ::SpinVariable) at /home/blegat/.julia/packages/MultivariatePolynomials/goWHi/src/operators.jl:35",
      " [3] *(::SpinVariable, ::SpinVariable) at ./In[3]:11",
      " [4] top-level scope at In[12]:1"
     ]
    }
   ],
   "source": [
    "σx * σy # TODO"
   ]
  },
  {
   "cell_type": "code",
   "execution_count": 13,
   "metadata": {},
   "outputs": [
    {
     "data": {
      "text/plain": [
       "(SpinVariable[σˣ₁, σˣ₂], SpinVariable[σʸ₁, σʸ₂], SpinVariable[σᶻ₁, σᶻ₂])"
      ]
     },
     "execution_count": 13,
     "metadata": {},
     "output_type": "execute_result"
    }
   ],
   "source": [
    "@spin σ[1:2]"
   ]
  },
  {
   "cell_type": "code",
   "execution_count": 14,
   "metadata": {},
   "outputs": [
    {
     "ename": "ErrorException",
     "evalue": "TODO",
     "output_type": "error",
     "traceback": [
      "TODO",
      "",
      "Stacktrace:",
      " [1] error(::String) at ./error.jl:33",
      " [2] *(::SpinVariable, ::SpinVariable) at ./In[3]:18",
      " [3] top-level scope at In[14]:1"
     ]
    }
   ],
   "source": [
    "σx[1] * σx[2] # TODO"
   ]
  },
  {
   "cell_type": "code",
   "execution_count": null,
   "metadata": {
    "collapsed": true
   },
   "outputs": [],
   "source": []
  }
 ],
 "metadata": {
  "kernelspec": {
   "display_name": "Julia 1.4.0",
   "language": "julia",
   "name": "julia-1.4"
  },
  "language_info": {
   "file_extension": ".jl",
   "mimetype": "application/julia",
   "name": "julia",
   "version": "1.4.0"
  }
 },
 "nbformat": 4,
 "nbformat_minor": 2
}
